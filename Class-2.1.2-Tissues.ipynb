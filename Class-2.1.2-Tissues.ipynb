{
 "cells": [
  {
   "cell_type": "markdown",
   "metadata": {
    "toc": true
   },
   "source": [
    "<h1>Table of Contents<span class=\"tocSkip\"></span></h1>\n",
    "<div class=\"toc\" style=\"margin-top: 1em;\"><ul class=\"toc-item\"><li><span><a href=\"#Epithelial-tissue\" data-toc-modified-id=\"Epithelial-tissue-1\"><span class=\"toc-item-num\">1&nbsp;&nbsp;</span>Epithelial tissue</a></span></li><li><span><a href=\"#Connective-tissue\" data-toc-modified-id=\"Connective-tissue-2\"><span class=\"toc-item-num\">2&nbsp;&nbsp;</span>Connective tissue</a></span></li><li><span><a href=\"#Muscle-tissue\" data-toc-modified-id=\"Muscle-tissue-3\"><span class=\"toc-item-num\">3&nbsp;&nbsp;</span>Muscle tissue</a></span></li><li><span><a href=\"#Nervous-tissue\" data-toc-modified-id=\"Nervous-tissue-4\"><span class=\"toc-item-num\">4&nbsp;&nbsp;</span>Nervous tissue</a></span></li></ul></div>"
   ]
  },
  {
   "cell_type": "markdown",
   "metadata": {},
   "source": [
    "# Class 2.1.2 - Tissues"
   ]
  },
  {
   "cell_type": "markdown",
   "metadata": {},
   "source": [
    "**Four type of tissues:**\n",
    "\n",
    "* epithelial tissue;\n",
    "* connective tissue;\n",
    "* muscle tissue;\n",
    "* nervous tissue."
   ]
  },
  {
   "cell_type": "markdown",
   "metadata": {},
   "source": [
    "## Epithelial tissue"
   ]
  },
  {
   "cell_type": "markdown",
   "metadata": {},
   "source": [
    "**Examples:**\n",
    "\n",
    "* skin surface (epidermis);\n",
    "* lining of GI tract;\n",
    "\n",
    "**Functions:**\n",
    "\n",
    "* cover exposed surfaces;\n",
    "* line internal passageways and chambers;\n",
    "* glandular secretion;"
   ]
  },
  {
   "cell_type": "markdown",
   "metadata": {},
   "source": [
    "## Connective tissue"
   ]
  },
  {
   "cell_type": "markdown",
   "metadata": {},
   "source": [
    "**Examples:**\n",
    "\n",
    "* fat and other soft padding tissues;\n",
    "* bones;\n",
    "* ligaments;\n",
    "* tendons.\n",
    "\n",
    "**Functions:**\n",
    "\n",
    "* provide protective structural framework for other tissue types;\n",
    "* interconnect parts of the body;\n",
    "* filling internal spaces;\n",
    "* providing strctural support and storing energy;\n"
   ]
  },
  {
   "cell_type": "markdown",
   "metadata": {},
   "source": [
    "## Muscle tissue"
   ]
  },
  {
   "cell_type": "markdown",
   "metadata": {},
   "source": [
    "**Examples:**\n",
    "\n",
    "* cardiac muscle;\n",
    "* smooth muscle (walls of hollow organs);\n",
    "* skeletal muscle;\n",
    "\n",
    "**Functions:**\n",
    "\n",
    "* produce active movement;"
   ]
  },
  {
   "cell_type": "markdown",
   "metadata": {},
   "source": [
    "## Nervous tissue"
   ]
  },
  {
   "cell_type": "markdown",
   "metadata": {},
   "source": [
    "**Examples:**\n",
    "\n",
    "* brain;\n",
    "* spinal cord;\n",
    "* nerves;\n",
    "\n",
    "**Functions:**\n",
    "\n",
    "* perform internal communication amont whole body;"
   ]
  }
 ],
 "metadata": {
  "kernelspec": {
   "display_name": "Python 3",
   "language": "python",
   "name": "python3"
  },
  "language_info": {
   "codemirror_mode": {
    "name": "ipython",
    "version": 3
   },
   "file_extension": ".py",
   "mimetype": "text/x-python",
   "name": "python",
   "nbconvert_exporter": "python",
   "pygments_lexer": "ipython3",
   "version": "3.6.3"
  },
  "latex_envs": {
   "LaTeX_envs_menu_present": true,
   "autocomplete": true,
   "bibliofile": "biblio.bib",
   "cite_by": "apalike",
   "current_citInitial": 1,
   "eqLabelWithNumbers": true,
   "eqNumInitial": 1,
   "hotkeys": {
    "equation": "Ctrl-E",
    "itemize": "Ctrl-I"
   },
   "labels_anchors": false,
   "latex_user_defs": false,
   "report_style_numbering": false,
   "user_envs_cfg": false
  },
  "toc": {
   "nav_menu": {},
   "number_sections": true,
   "sideBar": true,
   "skip_h1_title": true,
   "toc_cell": true,
   "toc_position": {},
   "toc_section_display": "block",
   "toc_window_display": true
  }
 },
 "nbformat": 4,
 "nbformat_minor": 2
}
