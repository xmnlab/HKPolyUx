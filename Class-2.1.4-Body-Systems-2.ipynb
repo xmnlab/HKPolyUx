{
 "cells": [
  {
   "cell_type": "markdown",
   "metadata": {
    "toc": true
   },
   "source": [
    "<h1>Table of Contents<span class=\"tocSkip\"></span></h1>\n",
    "<div class=\"toc\" style=\"margin-top: 1em;\"><ul class=\"toc-item\"><li><span><a href=\"#Respiratory-systems\" data-toc-modified-id=\"Respiratory-systems-1\"><span class=\"toc-item-num\">1&nbsp;&nbsp;</span>Respiratory systems</a></span></li><li><span><a href=\"#Digestive-systems\" data-toc-modified-id=\"Digestive-systems-2\"><span class=\"toc-item-num\">2&nbsp;&nbsp;</span>Digestive systems</a></span></li><li><span><a href=\"#Urinary-systems\" data-toc-modified-id=\"Urinary-systems-3\"><span class=\"toc-item-num\">3&nbsp;&nbsp;</span>Urinary systems</a></span></li><li><span><a href=\"#Reproductive-systems\" data-toc-modified-id=\"Reproductive-systems-4\"><span class=\"toc-item-num\">4&nbsp;&nbsp;</span>Reproductive systems</a></span></li></ul></div>"
   ]
  },
  {
   "cell_type": "markdown",
   "metadata": {},
   "source": [
    "# Class 2.1.4 - Body Systems (part 2)"
   ]
  },
  {
   "cell_type": "markdown",
   "metadata": {},
   "source": [
    "This video focuses on the components and structures of the following body systems: respiratory, digestive, urinary, and reproductive systems."
   ]
  },
  {
   "cell_type": "markdown",
   "metadata": {},
   "source": [
    "## Respiratory systems\n",
    "\n",
    "**It is consists of:**\n",
    "\n",
    "* upper respiratory tract;\n",
    "  * Nose;\n",
    "  * Nasal cavity;\n",
    "  * Mouth;\n",
    "  * Throat or Pharynx;\n",
    "  * Voice Box or Larynx;\n",
    "* lower respiratory tract;\n",
    "  * Trachea;\n",
    "  * Bronchi;\n",
    "  * Bronchioles;\n",
    "  * Lungs;\n",
    "\n",
    "**Characteristics:**\n",
    "\n",
    "* Withing the lungs, there are numerous tiny air sacs called alveoli, where gas exchange occurs;\n",
    "  * Provides oxygen to bloodstream;\n",
    "  * Removes carbon dioxide from bloodstream;\n",
    "\n",
    "**Functions:**\n",
    "\n",
    "* it keeps the body constantly supplied with oxygen and removes carbon dioxide;\n",
    "* it is important for sound production (speak);"
   ]
  },
  {
   "cell_type": "markdown",
   "metadata": {},
   "source": [
    "## Digestive systems\n",
    "\n",
    "**It is consists of:**\n",
    "\n",
    "* Oral cavity (tongue and teeth);\n",
    "* Esophagus;\n",
    "* Stomach;\n",
    "* Small intestine;\n",
    "* Large intestine;\n",
    "* Accessory organs, such as:\n",
    "  * Liver;\n",
    "  * Gallbladder;\n",
    "  * Pancreas;\n",
    "\n",
    "**Characteristics:**\n",
    "\n",
    "* It is basically a very long tube running through the body from mouth to anus;\n",
    "\n",
    "\n",
    "**Functions:**\n",
    "\n",
    "* Their role is to process and digest food, absorb and conserve water, absorb nutrients and eliminate undigested food waste;"
   ]
  },
  {
   "cell_type": "markdown",
   "metadata": {},
   "source": [
    "## Urinary systems\n",
    "\n",
    "**It is consists of:**\n",
    "\n",
    "* Kidneys;\n",
    "* Ureters;\n",
    "* Urinary bladder;\n",
    "* Urethra;\n",
    "\n",
    "**Characteristics:**\n",
    "\n",
    "**Functions:**\n",
    "\n",
    "* The kidney excretes waste products such as urea from the bloodstream;\n",
    "* Kidneys control water balance by regulating volume of urine produced;\n",
    "* Kidneys regulate blood ion concentration and pH by controlling the composition of urine produced;\n",
    "* The urinary bladder can temporarily store urine prior to voluntary elimination;"
   ]
  },
  {
   "cell_type": "markdown",
   "metadata": {},
   "source": [
    "## Reproductive systems\n",
    "\n",
    "**It is consists of:**\n",
    "* For males:\n",
    "  * Testes;\n",
    "  * Accessory glands like:\n",
    "    * The prostate;\n",
    "    * Associated duct systems;\n",
    "* For females:\n",
    "  * Ovaries (female);\n",
    "  * Duct systems:\n",
    "    * Uterine tubes;\n",
    "    * Uterus;\n",
    "    * Vagina;\n",
    "    \n",
    "\n",
    "**Functions and Characteristics:**\n",
    "\n",
    "* Its function is produce offspring;\n",
    "* The testes of the male produce sperms;\n",
    "* The ovaries of the female produce eggs;\n",
    "* In male, sperm cells are produced in seminiferous tubules which are located inside the testes. These immature sperm cells then passively moved to epididymis for temporary storage and maturation;\n",
    "* Eggs produced in ovary passively passed through the uterine tube and then reach the uterus. If fertilization occurs, the growing fetus will attach to the uterus by forming the placenta;\n",
    "* Mammary glands are milk producing glands found in the breasts. After the birth of a baby they produce milk in response to hormonal stimulation."
   ]
  }
 ],
 "metadata": {
  "kernelspec": {
   "display_name": "Python 3",
   "language": "python",
   "name": "python3"
  },
  "language_info": {
   "codemirror_mode": {
    "name": "ipython",
    "version": 3
   },
   "file_extension": ".py",
   "mimetype": "text/x-python",
   "name": "python",
   "nbconvert_exporter": "python",
   "pygments_lexer": "ipython3",
   "version": "3.6.3"
  },
  "latex_envs": {
   "LaTeX_envs_menu_present": true,
   "autocomplete": true,
   "bibliofile": "biblio.bib",
   "cite_by": "apalike",
   "current_citInitial": 1,
   "eqLabelWithNumbers": true,
   "eqNumInitial": 1,
   "hotkeys": {
    "equation": "Ctrl-E",
    "itemize": "Ctrl-I"
   },
   "labels_anchors": false,
   "latex_user_defs": false,
   "report_style_numbering": false,
   "user_envs_cfg": false
  },
  "toc": {
   "nav_menu": {},
   "number_sections": true,
   "sideBar": true,
   "skip_h1_title": true,
   "toc_cell": true,
   "toc_position": {},
   "toc_section_display": "block",
   "toc_window_display": true
  }
 },
 "nbformat": 4,
 "nbformat_minor": 2
}
