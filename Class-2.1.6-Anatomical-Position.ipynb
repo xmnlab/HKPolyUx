{
 "cells": [
  {
   "cell_type": "markdown",
   "metadata": {
    "toc": true
   },
   "source": [
    "<h1>Table of Contents<span class=\"tocSkip\"></span></h1>\n",
    "<div class=\"toc\" style=\"margin-top: 1em;\"><ul class=\"toc-item\"><li><span><a href=\"#Anatomical-Position\" data-toc-modified-id=\"Anatomical-Position-1\"><span class=\"toc-item-num\">1&nbsp;&nbsp;</span>Anatomical Position</a></span></li><li><span><a href=\"#Abduction,-Adduction-and-Circumduction\" data-toc-modified-id=\"Abduction,-Adduction-and-Circumduction-2\"><span class=\"toc-item-num\">2&nbsp;&nbsp;</span>Abduction, Adduction and Circumduction</a></span></li><li><span><a href=\"#Flexion-and-extension-of-the-Forearm\" data-toc-modified-id=\"Flexion-and-extension-of-the-Forearm-3\"><span class=\"toc-item-num\">3&nbsp;&nbsp;</span>Flexion and extension of the Forearm</a></span></li><li><span><a href=\"#Supination-and-Pronation-of-the-Forearm\" data-toc-modified-id=\"Supination-and-Pronation-of-the-Forearm-4\"><span class=\"toc-item-num\">4&nbsp;&nbsp;</span>Supination and Pronation of the Forearm</a></span></li></ul></div>"
   ]
  },
  {
   "cell_type": "markdown",
   "metadata": {},
   "source": [
    "# Class - 2.1.6 - Anatomical Position"
   ]
  },
  {
   "cell_type": "markdown",
   "metadata": {},
   "source": [
    "Anatomical position serves as the basic reference for medical communication. In this video, terminologies of movements will also be introduced."
   ]
  },
  {
   "cell_type": "markdown",
   "metadata": {},
   "source": [
    "## Anatomical Position"
   ]
  },
  {
   "cell_type": "markdown",
   "metadata": {},
   "source": [
    "The three major anatomical planes are:\n",
    "\n",
    "* Coronal (frontal) plane: anterior/posterior;\n",
    "* Sagittal (median) plane: left/right;\n",
    "* Transverse (horizontal/axial) plane: superior/inferior.\n",
    "\n",
    "**Coronal Plane**\n",
    "\n",
    "The coronal plane extends vertically along the mid axillary line. It divides the body into anterior (front) and posterior (back), portions. \n",
    "\n",
    "**Sagittal plane**\n",
    "\n",
    "The sagittal plane also extends vertically but along the mid sagittal line. It is perpendicular to the coronal plane and divides the body into right and left portions. The direction towards the midline is called medial. Whereas the direction away from the midline is called lateral.\n",
    "\n",
    "**Trasnverse plane**\n",
    "\n",
    "The transverse plane divides the body or organ horizontally into superior (upper) and inferior (lower) portions. Other terms that are used include proximal or cephalad, and distal or caudad."
   ]
  },
  {
   "cell_type": "markdown",
   "metadata": {},
   "source": [
    "## Abduction, Adduction and Circumduction"
   ]
  },
  {
   "cell_type": "markdown",
   "metadata": {},
   "source": [
    "Abduction is the movement in the coronal plane away from the midline of the body. Adduction is the movement towards the midline. To draw circles with the arm/leg is called circumduction. \n",
    "\n",
    "Abduction, adduction and circumduction movements with arm take place at the shoulder joint while leg take place at the hip joint."
   ]
  },
  {
   "cell_type": "markdown",
   "metadata": {},
   "source": [
    "## Flexion and extension of the Forearm"
   ]
  },
  {
   "cell_type": "markdown",
   "metadata": {},
   "source": [
    "Flexion is the movement that decrease a joint angle such as drawing the forearm towards shoulder.\n",
    "\n",
    "Extension is the movement that straightens a joint such as stretching the forearm.\n",
    "\n",
    "Take place at the elbow joint."
   ]
  },
  {
   "cell_type": "markdown",
   "metadata": {},
   "source": [
    "## Supination and Pronation of the Forearm"
   ]
  },
  {
   "cell_type": "markdown",
   "metadata": {},
   "source": [
    "Supination and pronation refer to forearm movements. Supination of the forearm is a movement that turns the palm to face anteriorly. Pronation is the opposite movement, causing the palm to face posteriorly."
   ]
  }
 ],
 "metadata": {
  "kernelspec": {
   "display_name": "Python 3",
   "language": "python",
   "name": "python3"
  },
  "language_info": {
   "codemirror_mode": {
    "name": "ipython",
    "version": 3
   },
   "file_extension": ".py",
   "mimetype": "text/x-python",
   "name": "python",
   "nbconvert_exporter": "python",
   "pygments_lexer": "ipython3",
   "version": "3.6.3"
  },
  "latex_envs": {
   "LaTeX_envs_menu_present": true,
   "autocomplete": true,
   "bibliofile": "biblio.bib",
   "cite_by": "apalike",
   "current_citInitial": 1,
   "eqLabelWithNumbers": true,
   "eqNumInitial": 1,
   "hotkeys": {
    "equation": "Ctrl-E",
    "itemize": "Ctrl-I"
   },
   "labels_anchors": false,
   "latex_user_defs": false,
   "report_style_numbering": false,
   "user_envs_cfg": false
  },
  "toc": {
   "nav_menu": {},
   "number_sections": true,
   "sideBar": true,
   "skip_h1_title": true,
   "toc_cell": true,
   "toc_position": {},
   "toc_section_display": "block",
   "toc_window_display": true
  }
 },
 "nbformat": 4,
 "nbformat_minor": 2
}
