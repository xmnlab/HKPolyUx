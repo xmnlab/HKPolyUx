{
 "cells": [
  {
   "cell_type": "markdown",
   "metadata": {},
   "source": [
    "# Class 2.1.4 - Body Systems (part 2)\n",
    "\n",
    "This video focuses on the components and structures of the following body systems: respiratory, digestive, urinary, and reproductive systems.\n",
    "\n",
    "## Respiratory systems\n",
    "\n",
    "**It is consists of:**\n",
    "\n",
    "**Characteristics:**\n",
    "\n",
    "**Functions:**\n",
    "\n",
    "\n",
    "## Digestive systems\n",
    "\n",
    "**It is consists of:**\n",
    "\n",
    "**Characteristics:**\n",
    "\n",
    "**Functions:**\n",
    "\n",
    "\n",
    "## Urinary systems\n",
    "\n",
    "**It is consists of:**\n",
    "\n",
    "**Characteristics:**\n",
    "\n",
    "**Functions:**\n",
    "\n",
    "\n",
    "## Reproductive systems\n",
    "\n",
    "**It is consists of:**\n",
    "\n",
    "**Characteristics:**\n",
    "\n",
    "**Functions:**\n"
   ]
  }
 ],
 "metadata": {
  "kernelspec": {
   "display_name": "Python 3",
   "language": "python",
   "name": "python3"
  },
  "language_info": {
   "codemirror_mode": {
    "name": "ipython",
    "version": 3
   },
   "file_extension": ".py",
   "mimetype": "text/x-python",
   "name": "python",
   "nbconvert_exporter": "python",
   "pygments_lexer": "ipython3",
   "version": "3.6.3"
  },
  "latex_envs": {
   "LaTeX_envs_menu_present": true,
   "autocomplete": true,
   "bibliofile": "biblio.bib",
   "cite_by": "apalike",
   "current_citInitial": 1,
   "eqLabelWithNumbers": true,
   "eqNumInitial": 1,
   "hotkeys": {
    "equation": "Ctrl-E",
    "itemize": "Ctrl-I"
   },
   "labels_anchors": false,
   "latex_user_defs": false,
   "report_style_numbering": false,
   "user_envs_cfg": false
  },
  "toc": {
   "nav_menu": {},
   "number_sections": true,
   "sideBar": true,
   "skip_h1_title": true,
   "toc_cell": false,
   "toc_position": {},
   "toc_section_display": "block",
   "toc_window_display": false
  }
 },
 "nbformat": 4,
 "nbformat_minor": 2
}
