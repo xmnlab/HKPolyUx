{
 "cells": [
  {
   "cell_type": "markdown",
   "metadata": {},
   "source": [
    "# Class 2.1.3 - Body Systems (part 1)"
   ]
  },
  {
   "cell_type": "markdown",
   "metadata": {},
   "source": [
    "This video focuses on the components and structures of the following body systems: integumentary, skeletal, muscular, nervous, endocrine, cardiovascular, and lymphatic systems."
   ]
  },
  {
   "cell_type": "markdown",
   "metadata": {},
   "source": [
    "## Integumentary system"
   ]
  },
  {
   "cell_type": "markdown",
   "metadata": {},
   "source": [
    "**It is consists of:**\n",
    "\n",
    "* skin;\n",
    "* hair;\n",
    "* nails;\n",
    "* sweat & oil glands.\n",
    "\n",
    "**Characteristics:**\n",
    "\n",
    "* Skin is composed of 2 main layers: epidermis and dermis;\n",
    "* The epidermis made of closely packed epithelial cells;\n",
    "* The dermis composed of different connective tissues;\n",
    "* Dermis houses:\n",
    "  * blood vessels;\n",
    "  * hair follicles;\n",
    "  * sweat glands;\n",
    "  * receptors.\n",
    "* Below the dermis, there is hypodermis, that connects skin to the underlying connective tissues of the bones and muscles.\n",
    "\n",
    "**Functions:**\n",
    "\n",
    "* Excretes salts;\n",
    "* Regulates body temperature;\n",
    "* Provides sensation.\n"
   ]
  },
  {
   "cell_type": "markdown",
   "metadata": {},
   "source": [
    "## Skeletal system"
   ]
  },
  {
   "cell_type": "markdown",
   "metadata": {},
   "source": [
    "* It consists of:\n",
    "  * bones;\n",
    "  * cartilages;\n",
    "  * ligaments;\n",
    "  * joints;\n",
    "  * bone marrow;\n",
    "* The adult skeleton is composed of 206 bones;\n",
    "\n",
    "\n",
    "**Functions**\n",
    "\n",
    "* provides support and protection for other tissues;\n",
    "* provides framework for skeleton muscle contraction;\n",
    "* storehouse for mineral;"
   ]
  },
  {
   "cell_type": "markdown",
   "metadata": {},
   "source": [
    "## Muscular system"
   ]
  },
  {
   "cell_type": "markdown",
   "metadata": {},
   "source": [
    "**It consists of:**\n",
    "\n",
    "* skeletal muscles;\n",
    "* associated tendons;\n",
    "\n",
    "**Characteristics**\n",
    "\n",
    "* typically about 640 skeletal muscles;\n",
    "* they can only pull in one direction by contraction;\n",
    "\n",
    "**Functions**\n",
    "\n",
    "* provides movement and locomotion;\n",
    "* postural maintenance;\n",
    "* facial expression;\n",
    "* generate heat;\n"
   ]
  },
  {
   "cell_type": "markdown",
   "metadata": {},
   "source": [
    "## Nervous system"
   ]
  },
  {
   "cell_type": "markdown",
   "metadata": {},
   "source": [
    "**It consists of:**\n",
    "\n",
    "* brain (CNS);\n",
    "* spinal cord (CNS);\n",
    "* nerves (PNS);\n",
    "* sensory organs (PNS);\n",
    "\n",
    "**Characteristics**\n",
    "\n",
    "* it can be divided into central nervous system (CNS) and peripheral nervous system (PNS);\n",
    "\n",
    "**Functions**\n",
    "\n",
    "* fast-acting control system;\n",
    "* directs immediate responses to stimuli;\n",
    "* coordinates or moderates activities of other organs systems;\n",
    "* provides and interprets sensory information about external conditions;\n"
   ]
  },
  {
   "cell_type": "markdown",
   "metadata": {},
   "source": [
    "## Endocrine system"
   ]
  },
  {
   "cell_type": "markdown",
   "metadata": {},
   "source": [
    "**Secretes hormones from:**\n",
    "\n",
    "* pituitary gland;\n",
    "* thyroid gland;\n",
    "* pancreas;\n",
    "* adrenal glands;\n",
    "* testes (male);\n",
    "* ovaries (female);\n",
    "\n",
    "**Characteristics**\n",
    "\n",
    "* the endocrine glands produce hormones;\n",
    "* hormones travel by blood to relatively distant target organs;\n",
    "\n",
    "**Functions**\n",
    "\n",
    "* controls body activities;\n",
    "* regulates:\n",
    "  * growth;\n",
    "  * reproduction;\n",
    "  * nutrients use by body cells;"
   ]
  },
  {
   "cell_type": "markdown",
   "metadata": {},
   "source": [
    "## Cardiovascular system"
   ]
  },
  {
   "cell_type": "markdown",
   "metadata": {},
   "source": [
    "**It consistes of:**\n",
    "\n",
    "* heart;\n",
    "* blood vessels;\n",
    "* blood;\n",
    "\n",
    "**Characteristics**\n",
    "\n",
    "* heart has its own signal conduction system;\n",
    "* heart generate a unidirectional impulse and thus result in contraction of the heart chambers for pumping blood into the major vessels;\n",
    "\n",
    "\n",
    "**Specialized conduction heart components:**\n",
    "\n",
    "* sinoatrial (SA) node;\n",
    "* atrioventricular (AV) node;\n",
    "* atrioventricular (AV) bundle;\n",
    "* purkinje fibers;\n",
    "\n",
    "**Functions**\n",
    "\n",
    "* using blood as the transporting fluid, the cardiovascular system carries/distributes oxygen, nutrients, hormones, heat;\n"
   ]
  },
  {
   "cell_type": "markdown",
   "metadata": {},
   "source": [
    "## Lymphatic system"
   ]
  },
  {
   "cell_type": "markdown",
   "metadata": {},
   "source": [
    "**It consists of:**\n",
    "\n",
    "* lymphatic vessels;\n",
    "* lymph nodes;\n",
    "* lymphoid organs, such as the spleen;\n",
    "* thymus;\n",
    "\n",
    "**Characteristics**\n",
    "\n",
    "* it complements cardiovascular system;\n",
    "\n",
    "**Functions**\n",
    "\n",
    "* lymphatic vessels return fluid leaked from the blood back to the bloodstreams;\n",
    "* lymph nodes and other lymphoids organs defends against pathogens;"
   ]
  }
 ],
 "metadata": {
  "kernelspec": {
   "display_name": "Python 3",
   "language": "python",
   "name": "python3"
  },
  "language_info": {
   "codemirror_mode": {
    "name": "ipython",
    "version": 3
   },
   "file_extension": ".py",
   "mimetype": "text/x-python",
   "name": "python",
   "nbconvert_exporter": "python",
   "pygments_lexer": "ipython3",
   "version": "3.6.3"
  },
  "latex_envs": {
   "LaTeX_envs_menu_present": true,
   "autocomplete": true,
   "bibliofile": "biblio.bib",
   "cite_by": "apalike",
   "current_citInitial": 1,
   "eqLabelWithNumbers": true,
   "eqNumInitial": 1,
   "hotkeys": {
    "equation": "Ctrl-E",
    "itemize": "Ctrl-I"
   },
   "labels_anchors": false,
   "latex_user_defs": false,
   "report_style_numbering": false,
   "user_envs_cfg": false
  },
  "toc": {
   "nav_menu": {},
   "number_sections": true,
   "sideBar": true,
   "skip_h1_title": true,
   "toc_cell": false,
   "toc_position": {},
   "toc_section_display": "block",
   "toc_window_display": false
  }
 },
 "nbformat": 4,
 "nbformat_minor": 2
}
