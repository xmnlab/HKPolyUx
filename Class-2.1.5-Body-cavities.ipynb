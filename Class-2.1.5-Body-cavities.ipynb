{
 "cells": [
  {
   "cell_type": "markdown",
   "metadata": {
    "toc": true
   },
   "source": [
    "<h1>Table of Contents<span class=\"tocSkip\"></span></h1>\n",
    "<div class=\"toc\" style=\"margin-top: 1em;\"><ul class=\"toc-item\"><li><span><a href=\"#Body-cavities\" data-toc-modified-id=\"Body-cavities-1\"><span class=\"toc-item-num\">1&nbsp;&nbsp;</span>Body cavities</a></span></li></ul></div>"
   ]
  },
  {
   "cell_type": "markdown",
   "metadata": {},
   "source": [
    "# Class 2.1.5 - Body Cavities"
   ]
  },
  {
   "cell_type": "markdown",
   "metadata": {},
   "source": [
    "Location of organs in relation to the body cavities."
   ]
  },
  {
   "cell_type": "markdown",
   "metadata": {},
   "source": [
    "## Body cavities"
   ]
  },
  {
   "cell_type": "markdown",
   "metadata": {},
   "source": [
    "**It consists of:**\n",
    "\n",
    "* Dorsal or posterior cavity:\n",
    "  * Cranial cavity (contains brain);\n",
    "  * Spinal cavity (contains spinal cord);\n",
    "* Ventral or anterior cavity;\n",
    "  * Thoracic cavity (contains heart and lungs);\n",
    "  * Abdominopelvic cavity;\n",
    "    * (Superior) abdominal cavity (contains digestive viscera);\n",
    "    * (Inferior) pelvic cavity (contains urinary bladder, reproductive organs, and rectum);\n",
    "\n",
    "**Characteristics**\n",
    "\n",
    "* Our body maintains its internal organization by having different compartmentalization;\n",
    "* Dorsal and ventral cavities are the largest body compartments. These cavities contains and protect delicate internal organs;\n",
    "* Cranial and Spinal cavities are continuous and uninterrupted so as to protect the delicate nervous system;\n",
    "* Thoracic and Abdominopelvic cavities are separated by diaphragm;\n",
    "* Abdominopelvic cavity is the largest body cavity\n",
    "* Ventral cavity allows for significant changes in size and shape. Dorsal cavity doesn't;\n",
    "* There are 2 dorsal cavities and 3 ventral cavities."
   ]
  }
 ],
 "metadata": {
  "kernelspec": {
   "display_name": "Python 3",
   "language": "python",
   "name": "python3"
  },
  "language_info": {
   "codemirror_mode": {
    "name": "ipython",
    "version": 3
   },
   "file_extension": ".py",
   "mimetype": "text/x-python",
   "name": "python",
   "nbconvert_exporter": "python",
   "pygments_lexer": "ipython3",
   "version": "3.6.3"
  },
  "latex_envs": {
   "LaTeX_envs_menu_present": true,
   "autocomplete": true,
   "bibliofile": "biblio.bib",
   "cite_by": "apalike",
   "current_citInitial": 1,
   "eqLabelWithNumbers": true,
   "eqNumInitial": 1,
   "hotkeys": {
    "equation": "Ctrl-E",
    "itemize": "Ctrl-I"
   },
   "labels_anchors": false,
   "latex_user_defs": false,
   "report_style_numbering": false,
   "user_envs_cfg": false
  },
  "toc": {
   "nav_menu": {},
   "number_sections": true,
   "sideBar": true,
   "skip_h1_title": true,
   "toc_cell": true,
   "toc_position": {},
   "toc_section_display": "block",
   "toc_window_display": false
  }
 },
 "nbformat": 4,
 "nbformat_minor": 2
}
