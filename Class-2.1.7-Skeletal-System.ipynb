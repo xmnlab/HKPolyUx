{
 "cells": [
  {
   "cell_type": "markdown",
   "metadata": {
    "toc": true
   },
   "source": [
    "<h1>Table of Contents<span class=\"tocSkip\"></span></h1>\n",
    "<div class=\"toc\" style=\"margin-top: 1em;\"><ul class=\"toc-item\"><li><span><a href=\"#Bone-structure\" data-toc-modified-id=\"Bone-structure-1\"><span class=\"toc-item-num\">1&nbsp;&nbsp;</span>Bone structure</a></span></li><li><span><a href=\"#Axial-Skeleton\" data-toc-modified-id=\"Axial-Skeleton-2\"><span class=\"toc-item-num\">2&nbsp;&nbsp;</span>Axial Skeleton</a></span></li><li><span><a href=\"#Skull---Front-view\" data-toc-modified-id=\"Skull---Front-view-3\"><span class=\"toc-item-num\">3&nbsp;&nbsp;</span>Skull - Front view</a></span></li><li><span><a href=\"#Vertebral-column\" data-toc-modified-id=\"Vertebral-column-4\"><span class=\"toc-item-num\">4&nbsp;&nbsp;</span>Vertebral column</a></span></li><li><span><a href=\"#Spinal-Curvatures\" data-toc-modified-id=\"Spinal-Curvatures-5\"><span class=\"toc-item-num\">5&nbsp;&nbsp;</span>Spinal Curvatures</a></span></li><li><span><a href=\"#Thoracic-cage\" data-toc-modified-id=\"Thoracic-cage-6\"><span class=\"toc-item-num\">6&nbsp;&nbsp;</span>Thoracic cage</a></span></li><li><span><a href=\"#Rib\" data-toc-modified-id=\"Rib-7\"><span class=\"toc-item-num\">7&nbsp;&nbsp;</span>Rib</a></span></li><li><span><a href=\"#Thoracic-vertebra\" data-toc-modified-id=\"Thoracic-vertebra-8\"><span class=\"toc-item-num\">8&nbsp;&nbsp;</span>Thoracic vertebra</a></span></li><li><span><a href=\"#Costovertebral-joints\" data-toc-modified-id=\"Costovertebral-joints-9\"><span class=\"toc-item-num\">9&nbsp;&nbsp;</span>Costovertebral joints</a></span></li></ul></div>"
   ]
  },
  {
   "cell_type": "code",
   "execution_count": 1,
   "metadata": {},
   "outputs": [
    {
     "data": {
      "text/html": [
       "<style>.block-note {\n",
       "    margin: 10px;\n",
       "    padding:20px;\n",
       "    background:#DFDFDF;\n",
       "    border:1px #CCCCCC solid;\n",
       "    color: #333333;\n",
       "    font-style: italic;\n",
       "}\n",
       "</style>"
      ],
      "text/plain": [
       "<IPython.core.display.HTML object>"
      ]
     },
     "metadata": {},
     "output_type": "display_data"
    }
   ],
   "source": [
    "import setup; setup.style()"
   ]
  },
  {
   "cell_type": "markdown",
   "metadata": {},
   "source": [
    "# Class 2.1.7 - Skeletal System"
   ]
  },
  {
   "cell_type": "markdown",
   "metadata": {},
   "source": [
    "The skeletal system of the human body consists of different types of bones located in different body parts."
   ]
  },
  {
   "cell_type": "markdown",
   "metadata": {},
   "source": [
    "# Bones Classification\n",
    "\n",
    "Bones can be classified into different groups according to their shapes and corresponding function.\n",
    "\n",
    "The four major groups are:\n",
    "\n",
    "* Long bones;\n",
    "* Short bones;\n",
    "* Flat bones;\n",
    "* Irregular bones.\n",
    "\n",
    "---\n",
    "\n",
    "Long bones serve as rigid levers that are acted upon by the skeletal muscles to produce body movements (e.g. the femur).\n",
    "\n",
    "---\n",
    "\n",
    "Short bones have limited motion and merely glide across one another, enabling the ankles and wrists to flex in multiple directions (e.g. tarsal bones in the foot).\n",
    "\n",
    "---\n",
    "\n",
    "Flat bones enclose and protect soft organs and provide broad surfaces for muscle attachment (e.g. sternum in our chest).\n",
    "\n",
    "---\n",
    "\n",
    "Irregular bones include the vertebrae and some skull bones, they are irregular in shape."
   ]
  },
  {
   "cell_type": "markdown",
   "metadata": {},
   "source": [
    "## Bone structure\n",
    "\n",
    "Externally, most of the bone is covered with a sheath called periosteum.\n",
    "\n",
    "Underneath the periosteum is the hard compact bone.\n",
    "\n",
    "The inner layer is the relatively less dense spongy bone.\n",
    "\n",
    "The bone, even though stable in shape, is dynamic tissue. it requires good blood supply through some nutrient arteries. \n",
    "\n",
    "Inside the spongy bone, the fine structures are arranged according to the stress line called trabeculae\n",
    "\n",
    "The two major bone cells are called osteoblasts which is responsible for bone build, the osteoclasts are responsible for bone cutting and resorption.\n",
    "\n",
    "* Osteo**b**lasts for **b**uilding;\n",
    "* Osteo**c**lasts for **c**utting."
   ]
  },
  {
   "cell_type": "markdown",
   "metadata": {},
   "source": [
    "## Axial Skeleton\n",
    "\n",
    "The skeleton is divided into two regions namely the axial and appendicular skeleton.\n",
    "\n",
    "The axial skeleton forms the central supporting axis of the body and mainly includes: \n",
    "\n",
    "* Skull;\n",
    "* Hyoid;\n",
    "* Sternum;\n",
    "* Rib cage;\n",
    "* Vertebrae;\n",
    "* Sacrum;\n",
    "* Coccyx;\n",
    "\n",
    "The appendicular skeleton include the bones of the upper limb and pectoral girdle, and bones of the lower limb and pelvic girdle:\n",
    "\n",
    "* Pectoral Girdle:\n",
    "  * Clavicle;\n",
    "  * Scapula;\n",
    "* Upper Limb;\n",
    "* Pelvic Girdle;\n",
    "* Lower Limb;"
   ]
  },
  {
   "cell_type": "markdown",
   "metadata": {},
   "source": [
    "## Skull - Front view\n",
    "\n",
    "The skull is the most complex part of the skeleton. It is composed of 22 bones. Most of them are rigidly joined by sutures, joints that appear as seams on the cranial surface.\n",
    "\n",
    "The bones forming the cranium include:\n",
    "\n",
    "* Frontal bone;\n",
    "* Parietal bone;\n",
    "* Temporal bone;\n",
    "* Sphenoid bone;\n",
    "* Lacrimal bone;\n",
    "* Nasal bone;\n",
    "* Zygomatic bone;\n",
    "* Maxilla;\n",
    "* Mandible;\n",
    "* Ethmoid bone;\n",
    "* Inferior nasal concha;\n",
    "* Vomer.\n",
    "* Occipital;\n",
    "* Palatine bone;"
   ]
  },
  {
   "cell_type": "markdown",
   "metadata": {},
   "source": [
    "## Vertebral column\n",
    "\n",
    "Commonly called the backbone, the vertebral column, spine consists of a chain of 33 vertebrae with intervertebral discs of fibrocartilage between most of them.\n",
    "\n",
    "The vertebrae are divided into five groups:\n",
    "\n",
    "* 7 cervical vertebrae in the neck (C1-C7);\n",
    "* 12 thoracic vertebrae in the chest (T1-T12);\n",
    "* 5 lumbar vertebrae in the lower back (L1-L5);\n",
    "* 5 sacral vertebrae at the base of the spine (S1-S5 fused);\n",
    "* 4 tiny coccygeal vertebrae (Co1-Co4 fused)."
   ]
  },
  {
   "cell_type": "markdown",
   "metadata": {},
   "source": [
    "## Spinal Curvatures\n",
    "\n",
    "The thoracic and pelvic curvatures are called primary curvatures because they are present at birth. \n",
    "\n",
    "Primary curvatures is concave anteriorly and developed during embryonic growth. \n",
    "\n",
    "The cervical and lumbar curvatures are called second curvatures. They are developed later when the baby lifts its head and starts walking."
   ]
  },
  {
   "cell_type": "markdown",
   "metadata": {},
   "source": [
    "## Thoracic cage\n",
    "\n",
    "The thoracic cage consists of sternum, ribs and thoracic vertebrae. The sternum breastbone is a bony plate anterior to the heart. It is subdivided into three regions.\n",
    "\n",
    "* Sternum:\n",
    "  * Manubrium;\n",
    "  * Body;\n",
    "  * Xiphoid process;\n",
    "* Jugular notch;\n",
    "* Clavicular notch;\n",
    "* Clavicle;\n",
    "* Scapula;\n",
    "* Sternal angle (T4/T5);\n",
    "* Costal cartilages;\n",
    "* Intercostal space;\n",
    "\n",
    "There are 12 pairs of ribs:\n",
    "\n",
    "* Ribs 1-7 are called **True Ribs**;\n",
    "* Ribs 8-12 are called **False Ribs**;\n",
    "* Ribs 11-12 are also called **Floating Ribs**.\n",
    "\n",
    "Each True Ribs have its own costal cartilage connecting it to the sternum.\n",
    "\n",
    "False ribs is called that because they lack independent cartilaginous connections to the sternum. The costal cartilages fused to form the costal margin.\n",
    "\n",
    "Floating Ribs are the \"trouble-maker\" because when they are fractured in traffic accidents, they may puncture the kidney and liver causing severe internal bledding.\n",
    "\n",
    "<div class=\"block-note\">\n",
    "    NOTE: Clavicle and Scapula form part the pectoral girdle and they are part of the appendicular skeleton, not the axial skeleton.\n",
    "</div>"
   ]
  },
  {
   "cell_type": "markdown",
   "metadata": {},
   "source": [
    "## Rib\n",
    "\n",
    "A typical rib has a head that articulates with the body of its corresponding vertebra. Immediately distal to the head, the rib narrows to a neck and then widens again to form a rough area called tubercle. Beyond the tubercle, the rib flattens and widens into a gently sloping bladelike body, also called shaft. "
   ]
  },
  {
   "cell_type": "markdown",
   "metadata": {},
   "source": [
    "## Thoracic vertebra\n",
    "\n",
    "There are 12 thoracic vertebrae T1-T12 corresponding to the 12 pairs of ribs attached to them.\n",
    "\n",
    "The most obvious feature of a vertebra is the body. This is the weigh-baring portion.\n",
    "\n",
    "The pedicle and lamina form the vertebral arch to surround the vertebral foramen in the center. this is the passage for the spinal cord. The transverse process ad the spinous process provide points of attachment for spinal muscles and ligaments.\n",
    "\n",
    "One of the typical features for thoracic vertebrae is that the body of each thoracic vertebra has small, smooth, slightly concave spots called costal facets for attachment of the ribs."
   ]
  },
  {
   "cell_type": "markdown",
   "metadata": {},
   "source": [
    "## Costovertebral joints\n",
    "\n",
    "* Costotransverse joint;\n",
    "* capitular joint;\n",
    "\n",
    "The rib articulates with the inferior costal facet of the upper vertebra and the superior costal facet of the vertebra below that.\n",
    "\n",
    "The joints between the ribs and the thoracic vertebrae are called **costovertebral joints**. \n",
    "\n",
    "There are two costovertebral joints on each side, namely the **costotransverse joint**, attaching the tubercule to the transverse process, and the **capitular joint** joining the head of the rib to the body of the vertebra."
   ]
  }
 ],
 "metadata": {
  "kernelspec": {
   "display_name": "Python 3",
   "language": "python",
   "name": "python3"
  },
  "language_info": {
   "codemirror_mode": {
    "name": "ipython",
    "version": 3
   },
   "file_extension": ".py",
   "mimetype": "text/x-python",
   "name": "python",
   "nbconvert_exporter": "python",
   "pygments_lexer": "ipython3",
   "version": "3.6.3"
  },
  "latex_envs": {
   "LaTeX_envs_menu_present": true,
   "autocomplete": true,
   "bibliofile": "biblio.bib",
   "cite_by": "apalike",
   "current_citInitial": 1,
   "eqLabelWithNumbers": true,
   "eqNumInitial": 1,
   "hotkeys": {
    "equation": "Ctrl-E",
    "itemize": "Ctrl-I"
   },
   "labels_anchors": false,
   "latex_user_defs": false,
   "report_style_numbering": false,
   "user_envs_cfg": false
  },
  "toc": {
   "nav_menu": {},
   "number_sections": true,
   "sideBar": true,
   "skip_h1_title": true,
   "toc_cell": true,
   "toc_position": {},
   "toc_section_display": "block",
   "toc_window_display": false
  }
 },
 "nbformat": 4,
 "nbformat_minor": 2
}
